{
 "cells": [
  {
   "cell_type": "code",
   "execution_count": null,
   "metadata": {},
   "outputs": [],
   "source": [
    "import numpy as np\n",
    "import matplotlib.pyplot as plt\n",
    "import h5py\n",
    "import glob\n",
    "import os"
   ]
  },
  {
   "cell_type": "code",
   "execution_count": null,
   "metadata": {},
   "outputs": [],
   "source": [
    "%matplotlib inline"
   ]
  },
  {
   "cell_type": "markdown",
   "metadata": {},
   "source": [
    "# 1d case"
   ]
  },
  {
   "cell_type": "code",
   "execution_count": null,
   "metadata": {},
   "outputs": [],
   "source": [
    "!ls 1d"
   ]
  },
  {
   "cell_type": "code",
   "execution_count": null,
   "metadata": {},
   "outputs": [],
   "source": [
    "fs_imex_all = []\n",
    "fs_ce_all = []\n",
    "kappas = [1e-3, 1e-4, 1e-5]\n",
    "for n in range(3, 3+len(kappas)):\n",
    "    files_imex = sorted(glob.glob(f'1d/data_imex_*_kappa1em{n}.hdf5'), key=os.path.getmtime)\n",
    "    fs_imex = []\n",
    "    for f in files_imex:\n",
    "        fs_imex.append(h5py.File(f, 'r'))\n",
    "    fs_imex_all.append(fs_imex)\n",
    "    files_ce = sorted(glob.glob(f'1d/data_ce_*_kappa1em{n}.hdf5'), key=os.path.getmtime)\n",
    "    fs_ce = []\n",
    "    for f in files_ce:\n",
    "        fs_ce.append(h5py.File(f, 'r'))\n",
    "    fs_ce_all.append(fs_ce)"
   ]
  },
  {
   "cell_type": "code",
   "execution_count": null,
   "metadata": {},
   "outputs": [],
   "source": [
    "print(len(fs_imex_all[0]), len(fs_ce_all[0]))\n",
    "print(len(fs_imex_all[1]), len(fs_ce_all[1]))\n",
    "print(len(fs_imex_all[2]), len(fs_ce_all[2]))"
   ]
  },
  {
   "cell_type": "code",
   "execution_count": null,
   "metadata": {},
   "outputs": [],
   "source": [
    "for n, kappa in enumerate(kappas):\n",
    "    fig, axes = plt.subplots(len(fs_imex_all[n]), 2, figsize=(8, 20))\n",
    "    for i in range(len(fs_imex_all[n])):\n",
    "        axes[i, 0].plot(fs_imex_all[n][i]['Domain/x'], fs_imex_all[n][i]['Primitive/T'][:], label='IMEX')\n",
    "        axes[i, 0].plot(fs_ce_all[n][i]['Domain/x'], fs_ce_all[n][i]['Primitive/T'][:], label='CE')\n",
    "        axes[i, 0].legend()\n",
    "        axes[i, 0].set_title(f\"nx = {fs_imex_all[n][i]['Domain'].attrs['nx'][0]}\")\n",
    "        axes[i, 0].set_ylabel(r\"$T$\")\n",
    "        axes[i, 1].plot(fs_imex_all[n][i]['Domain/x'], fs_imex_all[n][i]['Primitive/T'][:]-fs_ce_all[n][i]['Primitive/T'][:], label='IMEX')\n",
    "        axes[i, 1].set_title(\"IMEX - CE\")\n",
    "    axes[-1, 0].set_xlabel(r\"$x$\")\n",
    "    axes[-1, 1].set_xlabel(r\"$x$\")\n",
    "    fig.suptitle(fr\"$\\kappa=10^{{-{3+n}}}$\")\n",
    "    fig.tight_layout()\n",
    "    plt.show()"
   ]
  },
  {
   "cell_type": "markdown",
   "metadata": {},
   "source": [
    "Needs self-convergence tests here as well.\n",
    "\n",
    "This is not correct and needs me to check the right thing."
   ]
  },
  {
   "cell_type": "code",
   "execution_count": null,
   "metadata": {},
   "outputs": [],
   "source": [
    "diff2_all = []\n",
    "for n in range(len(fs_imex_all)):\n",
    "    diff2 = []\n",
    "    for i in range(len(fs_imex_all[n])-1):\n",
    "        Tlo = fs_imex_all[n][i]['Primitive/T'][:]\n",
    "        Thi = fs_imex_all[n][i+1]['Primitive/T'][:]\n",
    "        Tdiff = np.repeat(Tlo, 2) - Thi\n",
    "        diff2.append(np.sqrt(np.sum(Tdiff**2))/np.sqrt(fs_imex_all[n][i]['Domain'].attrs['dx']))\n",
    "    diff2_all.append(diff2)\n",
    "print(diff2_all)"
   ]
  },
  {
   "cell_type": "code",
   "execution_count": null,
   "metadata": {},
   "outputs": [],
   "source": [
    "plt.plot(fs_imex_all[0][0]['Domain/x'], fs_imex_all[0][0]['Primitive/T'][:])\n",
    "plt.plot(fs_imex_all[0][1]['Domain/x'], fs_imex_all[0][1]['Primitive/T'][:])"
   ]
  },
  {
   "cell_type": "code",
   "execution_count": null,
   "metadata": {},
   "outputs": [],
   "source": []
  }
 ],
 "metadata": {
  "kernelspec": {
   "display_name": "Python 3",
   "language": "python",
   "name": "python3"
  },
  "language_info": {
   "codemirror_mode": {
    "name": "ipython",
    "version": 3
   },
   "file_extension": ".py",
   "mimetype": "text/x-python",
   "name": "python",
   "nbconvert_exporter": "python",
   "pygments_lexer": "ipython3",
   "version": "3.8.5"
  }
 },
 "nbformat": 4,
 "nbformat_minor": 4
}
