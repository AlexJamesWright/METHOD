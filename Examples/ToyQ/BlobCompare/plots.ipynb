{
 "cells": [
  {
   "cell_type": "code",
   "execution_count": null,
   "metadata": {},
   "outputs": [],
   "source": [
    "import numpy as np\n",
    "import matplotlib.pyplot as plt\n",
    "import h5py\n",
    "import glob\n",
    "import os"
   ]
  },
  {
   "cell_type": "code",
   "execution_count": null,
   "metadata": {},
   "outputs": [],
   "source": [
    "%matplotlib inline"
   ]
  },
  {
   "cell_type": "markdown",
   "metadata": {},
   "source": [
    "# 1d case"
   ]
  },
  {
   "cell_type": "code",
   "execution_count": null,
   "metadata": {},
   "outputs": [],
   "source": [
    "!ls 1d"
   ]
  },
  {
   "cell_type": "code",
   "execution_count": null,
   "metadata": {},
   "outputs": [],
   "source": [
    "fs_imex_all = []\n",
    "fs_ce_all = []\n",
    "kappas = [1e-3, 1e-4, 1e-5]\n",
    "for n in range(3, 3+len(kappas)):\n",
    "    files_imex = sorted(glob.glob(f'1d/data_imex_*_kappa1em{n}.hdf5'), key=os.path.getmtime)\n",
    "    fs_imex = []\n",
    "    for f in files_imex:\n",
    "        fs_imex.append(h5py.File(f, 'r'))\n",
    "    fs_imex_all.append(fs_imex)\n",
    "    files_ce = sorted(glob.glob(f'1d/data_ce_*_kappa1em{n}.hdf5'), key=os.path.getmtime)\n",
    "    fs_ce = []\n",
    "    for f in files_ce:\n",
    "        fs_ce.append(h5py.File(f, 'r'))\n",
    "    fs_ce_all.append(fs_ce)"
   ]
  },
  {
   "cell_type": "code",
   "execution_count": null,
   "metadata": {},
   "outputs": [],
   "source": [
    "print(len(fs_imex_all[0]), len(fs_ce_all[0]))\n",
    "print(len(fs_imex_all[1]), len(fs_ce_all[1]))\n",
    "print(len(fs_imex_all[2]), len(fs_ce_all[2]))"
   ]
  },
  {
   "cell_type": "code",
   "execution_count": null,
   "metadata": {},
   "outputs": [],
   "source": [
    "for n, kappa in enumerate(kappas):\n",
    "    fig, axes = plt.subplots(4, 2, figsize=(6, 10))\n",
    "    for i in range(len(fs_imex_all[n])-4, len(fs_imex_all[n])):\n",
    "        axi = i+4-len(fs_imex_all[n])\n",
    "        axes[axi, 0].plot(fs_imex_all[n][i]['Domain/x'], fs_imex_all[n][i]['Primitive/T'][:], label='IMEX')\n",
    "        axes[axi, 0].plot(fs_ce_all[n][i]['Domain/x'], fs_ce_all[n][i]['Primitive/T'][:], label='CE')\n",
    "        axes[axi, 0].legend()\n",
    "        axes[axi, 0].set_title(f\"nx = {fs_imex_all[n][i]['Domain'].attrs['nx'][0]}\")\n",
    "        axes[axi, 0].set_ylabel(r\"$T$\")\n",
    "        axes[axi, 0].set_xlim(0, 1)\n",
    "        axes[axi, 0].set_ylim(0, 1)\n",
    "        axes[axi, 1].plot(fs_imex_all[n][i]['Domain/x'], fs_imex_all[n][i]['Primitive/T'][:]-fs_ce_all[n][i]['Primitive/T'][:], label='IMEX')\n",
    "        axes[axi, 1].set_title(\"IMEX - CE\")\n",
    "        axes[axi, 1].set_xlim(0, 1)\n",
    "        axes[axi, 1].yaxis.tick_right()\n",
    "    axes[-1, 0].set_xlabel(r\"$x$\")\n",
    "    axes[-1, 1].set_xlabel(r\"$x$\")\n",
    "    fig.suptitle(fr\"$\\kappa=10^{{-{3+n}}}$\")\n",
    "    fig.tight_layout()\n",
    "    plt.savefig(f\"solutions_k{3+n}.png\", bbox_inches='tight')\n",
    "    plt.show()"
   ]
  },
  {
   "cell_type": "markdown",
   "metadata": {},
   "source": [
    "Needs self-convergence tests here as well."
   ]
  },
  {
   "cell_type": "code",
   "execution_count": null,
   "metadata": {},
   "outputs": [],
   "source": [
    "def getCauchyConvergence(data, resolutions):\n",
    "    cauchyerrors = []\n",
    "    for i_r_c, r in enumerate(resolutions[1:]):\n",
    "        i_r = i_r_c + 1\n",
    "        data1 = data[i_r]['Primitive/T'][:]\n",
    "        data2 = np.repeat(data[i_r_c]['Primitive/T'][:], 2)\n",
    "        cauchyerrors.append(np.linalg.norm(data1-data2, 2) / r)\n",
    "    return cauchyerrors"
   ]
  },
  {
   "cell_type": "code",
   "execution_count": null,
   "metadata": {},
   "outputs": [],
   "source": [
    "fit_ranges = [[0, 5],\n",
    "              [1, 7],\n",
    "              [3, 7]]\n",
    "for n in range(len(fs_imex_all)):\n",
    "    resolutions = []\n",
    "    dxs = []\n",
    "    for f in fs_imex_all[n]:\n",
    "        resolutions.append(f['Domain'].attrs['nx'][0])\n",
    "        dxs.append(f['Domain'].attrs['dx'][0])\n",
    "    cauchyerrors = getCauchyConvergence(fs_imex_all[n], resolutions)\n",
    "    p = np.polyfit(np.log(dxs[fit_ranges[n][0]+1:fit_ranges[n][1]+1]),\n",
    "                   np.log(cauchyerrors[fit_ranges[n][0]:fit_ranges[n][1]]),\n",
    "                   1)\n",
    "    plt.figure(figsize=(6, 4))\n",
    "    plt.loglog(dxs[1:], cauchyerrors, 'kx', label='Data')\n",
    "    plt.loglog(dxs[1+fit_ranges[n][0]:], np.exp(p[1])*dxs[1+fit_ranges[n][0]:]**p[0], label=rf\"Fit slope {p[0]:.1f}\")\n",
    "    plt.xlabel(r\"$\\Delta x$\")\n",
    "    plt.ylabel(r\"Convergence error\")\n",
    "    plt.title(fr\"IMEX: $\\kappa=10^{{-{3+n}}}$\")\n",
    "    plt.legend()\n",
    "    plt.savefig(f\"self_convergence_imex_k{3+n}.png\")\n",
    "    plt.show()\n"
   ]
  },
  {
   "cell_type": "code",
   "execution_count": null,
   "metadata": {},
   "outputs": [],
   "source": [
    "fit_ranges = [[0, 5],\n",
    "              [1, 7],\n",
    "              [3, 7]]\n",
    "for n in range(len(fs_ce_all)):\n",
    "    resolutions = []\n",
    "    dxs = []\n",
    "    for f in fs_ce_all[n]:\n",
    "        resolutions.append(f['Domain'].attrs['nx'][0])\n",
    "        dxs.append(f['Domain'].attrs['dx'][0])\n",
    "    cauchyerrors = getCauchyConvergence(fs_ce_all[n], resolutions)\n",
    "    p = np.polyfit(np.log(dxs[fit_ranges[n][0]+1:fit_ranges[n][1]+1]),\n",
    "                   np.log(cauchyerrors[fit_ranges[n][0]:fit_ranges[n][1]]),\n",
    "                   1)\n",
    "    plt.figure(figsize=(6,4))\n",
    "    plt.loglog(dxs[1:], cauchyerrors, 'kx', label='Data')\n",
    "    plt.loglog(dxs[1+fit_ranges[n][0]:], np.exp(p[1])*dxs[1+fit_ranges[n][0]:]**p[0], label=rf\"Fit slope {p[0]:.1f}\")\n",
    "    plt.xlabel(r\"$\\Delta x$\")\n",
    "    plt.ylabel(r\"Convergence error\")\n",
    "    plt.title(fr\"CE: $\\kappa=10^{{-{3+n}}}$\")\n",
    "    plt.legend()\n",
    "    plt.savefig(f\"self_convergence_ce_k{3+n}.png\")\n",
    "    plt.show()\n"
   ]
  },
  {
   "cell_type": "markdown",
   "metadata": {},
   "source": [
    "So, we are seeing self-convergence of each individually."
   ]
  },
  {
   "cell_type": "markdown",
   "metadata": {},
   "source": [
    "Check convergence of CE to full model by comparing one against the other:"
   ]
  },
  {
   "cell_type": "code",
   "execution_count": null,
   "metadata": {},
   "outputs": [],
   "source": [
    "def getCauchyConvergence_twomodels(model1, model2, resolutions):\n",
    "    cauchyerrors = []\n",
    "    for i_r, r in enumerate(resolutions):\n",
    "        data1 = model1[i_r]['Primitive/T'][:]\n",
    "        data2 = model2[i_r]['Primitive/T'][:]\n",
    "        cauchyerrors.append(np.linalg.norm(data1-data2, 2) / r)\n",
    "    return cauchyerrors"
   ]
  },
  {
   "cell_type": "code",
   "execution_count": null,
   "metadata": {},
   "outputs": [],
   "source": [
    "fit_ranges = [[1, 6],\n",
    "              [2, 8],\n",
    "              [4, 8]]\n",
    "plot_ranges = [[0, 6],\n",
    "               [1, 8],\n",
    "               [2, 8]]\n",
    "for n in range(len(fs_ce_all)):\n",
    "    resolutions = []\n",
    "    dxs = []\n",
    "    for f in fs_ce_all[n]:\n",
    "        resolutions.append(f['Domain'].attrs['nx'][0])\n",
    "        dxs.append(f['Domain'].attrs['dx'][0])\n",
    "    cauchyerrors = getCauchyConvergence_twomodels(fs_imex_all[n],\n",
    "                                                  fs_ce_all[n],\n",
    "                                                  resolutions)\n",
    "    p = np.polyfit(np.log(dxs[fit_ranges[n][0]:fit_ranges[n][1]]),\n",
    "                   np.log(cauchyerrors[fit_ranges[n][0]:fit_ranges[n][1]]),\n",
    "                   1)\n",
    "    plt.figure(figsize=(6,4))\n",
    "    plt.loglog(dxs[plot_ranges[n][0]:], cauchyerrors[plot_ranges[n][0]:], 'kx', label='Data')\n",
    "    plt.loglog(dxs[fit_ranges[n][0]:], np.exp(p[1])*dxs[fit_ranges[n][0]:]**p[0], label=rf\"Fit slope {p[0]:.1f}\")\n",
    "    plt.xlabel(r\"$\\Delta x$\")\n",
    "    plt.ylabel(r\"Convergence error\")\n",
    "    plt.title(fr\"CE$\\to$IMEX: $\\kappa=10^{{-{3+n}}}$\")\n",
    "    plt.legend()\n",
    "    plt.savefig(f\"convergence_ce_to_imex_k{3+n}.png\")\n",
    "    plt.show()\n"
   ]
  },
  {
   "cell_type": "markdown",
   "metadata": {},
   "source": [
    "Because of the extreme smearing at low resolution, low $\\kappa$, not all points are plotted.\n",
    "\n",
    "So, the convergence plots show that for these values of $\\kappa$ it is impossible to distinguish *model error* (from the Chapman-Enskog model) from *numerical error* (due to finite difference effects)."
   ]
  },
  {
   "cell_type": "markdown",
   "metadata": {},
   "source": [
    "Check how the solutions at different $\\kappa$ look at the end."
   ]
  },
  {
   "cell_type": "code",
   "execution_count": null,
   "metadata": {},
   "outputs": [],
   "source": [
    "fig, axes = plt.subplots(1, 2, figsize=(10,5))\n",
    "for n in range(len(fs_imex_all)):\n",
    "    kappa = fs_imex_all[n][-1]['Optional'].attrs['kappa'][0]\n",
    "    endTime = fs_imex_all[n][-1].attrs['t'][0]\n",
    "    axes[0].plot(fs_imex_all[n][-1]['Domain/x'],\n",
    "                 fs_imex_all[n][-1]['Primitive/T'], label=rf\"$\\kappa={kappa:.1e}, t={endTime}$\")\n",
    "    axes[1].plot(fs_ce_all[n][-1]['Domain/x'],\n",
    "                 fs_ce_all[n][-1]['Primitive/T'], label=rf\"$\\kappa={kappa:.1e}, t={endTime}$\")\n",
    "axes[0].set_title('IMEX')\n",
    "axes[1].set_title('CE')\n",
    "for ax in axes:\n",
    "    ax.legend()\n",
    "    ax.set_xlabel(r\"$x$\")\n",
    "    ax.set_ylabel(r\"$T$\")\n",
    "fig.tight_layout()\n",
    "plt.show()"
   ]
  },
  {
   "cell_type": "markdown",
   "metadata": {},
   "source": [
    "If we went to smaller $\\kappa$ we'd have to evolve a very long time, introducing large numerical errors from the integration."
   ]
  }
 ],
 "metadata": {
  "kernelspec": {
   "display_name": "Python 3",
   "language": "python",
   "name": "python3"
  },
  "language_info": {
   "codemirror_mode": {
    "name": "ipython",
    "version": 3
   },
   "file_extension": ".py",
   "mimetype": "text/x-python",
   "name": "python",
   "nbconvert_exporter": "python",
   "pygments_lexer": "ipython3",
   "version": "3.9.1"
  }
 },
 "nbformat": 4,
 "nbformat_minor": 4
}
