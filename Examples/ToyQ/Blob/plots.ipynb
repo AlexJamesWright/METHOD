{
 "cells": [
  {
   "cell_type": "code",
   "execution_count": null,
   "metadata": {},
   "outputs": [],
   "source": [
    "import numpy as np\n",
    "import matplotlib.pyplot as plt\n",
    "import h5py\n",
    "import glob\n",
    "import os"
   ]
  },
  {
   "cell_type": "code",
   "execution_count": null,
   "metadata": {},
   "outputs": [],
   "source": [
    "%matplotlib notebook"
   ]
  },
  {
   "cell_type": "markdown",
   "metadata": {},
   "source": [
    "# 1d case"
   ]
  },
  {
   "cell_type": "code",
   "execution_count": null,
   "metadata": {},
   "outputs": [],
   "source": [
    "fs = []\n",
    "files = sorted(glob.glob('1d/data*hdf5'), key=os.path.getmtime)\n",
    "for f in files:\n",
    "    fs.append(h5py.File(f, 'r'))"
   ]
  },
  {
   "cell_type": "code",
   "execution_count": null,
   "metadata": {},
   "outputs": [],
   "source": [
    "fs[0]['Domain/x'].shape"
   ]
  },
  {
   "cell_type": "code",
   "execution_count": null,
   "metadata": {},
   "outputs": [],
   "source": [
    "fs[0]['Primitive/T'].shape"
   ]
  },
  {
   "cell_type": "code",
   "execution_count": null,
   "metadata": {},
   "outputs": [],
   "source": [
    "fs[0]['Domain'].attrs.keys()"
   ]
  },
  {
   "cell_type": "code",
   "execution_count": null,
   "metadata": {},
   "outputs": [],
   "source": [
    "fs[0]['Optional'].attrs.keys()"
   ]
  },
  {
   "cell_type": "code",
   "execution_count": null,
   "metadata": {},
   "outputs": [],
   "source": [
    "kappa = fs[0]['Optional'].attrs['kappa'][0]\n",
    "tau_q = fs[0]['Optional'].attrs['tau_q'][0]\n",
    "print(f\"Dissipation strength {kappa}, \"\n",
    "      f\"relaxation time {tau_q}, \"\n",
    "      f\"timestep {fs[0]['Domain'].attrs['dt'][0]}\")"
   ]
  },
  {
   "cell_type": "code",
   "execution_count": null,
   "metadata": {},
   "outputs": [],
   "source": [
    "fs[-1].attrs['t']"
   ]
  },
  {
   "cell_type": "code",
   "execution_count": null,
   "metadata": {},
   "outputs": [],
   "source": [
    "plt.figure()\n",
    "for f in fs:\n",
    "    plt.plot(f['Domain/x'], f['Primitive/T'])\n",
    "plt.show()"
   ]
  },
  {
   "cell_type": "code",
   "execution_count": null,
   "metadata": {},
   "outputs": [],
   "source": [
    "plt.figure()\n",
    "for f in fs:\n",
    "    plt.plot(f['Domain/x'], f['Primitive/qx'])\n",
    "plt.show()"
   ]
  },
  {
   "cell_type": "code",
   "execution_count": null,
   "metadata": {},
   "outputs": [],
   "source": [
    "plt.figure()\n",
    "for f in fs:\n",
    "    plt.plot(f['Domain/x'], f['Auxiliary/dxT'])\n",
    "plt.show()"
   ]
  },
  {
   "cell_type": "code",
   "execution_count": null,
   "metadata": {},
   "outputs": [],
   "source": [
    "Tall = np.zeros((len(fs), fs[0]['Primitive/T'].shape[0]))\n",
    "for i, f in enumerate(fs):\n",
    "    Tall[i, :] = f['Primitive/T']"
   ]
  },
  {
   "cell_type": "code",
   "execution_count": null,
   "metadata": {},
   "outputs": [],
   "source": [
    "plt.figure(figsize=(8,8))\n",
    "plt.imshow(Tall, aspect='auto')\n",
    "plt.show()"
   ]
  },
  {
   "cell_type": "markdown",
   "metadata": {},
   "source": [
    "This figure is all about showing that the features propagate at the expected wave speed."
   ]
  },
  {
   "cell_type": "code",
   "execution_count": null,
   "metadata": {},
   "outputs": [],
   "source": [
    "plt.figure(figsize=(8,8))\n",
    "t = np.linspace(fs[0].attrs['t'], fs[-1].attrs['t'], len(fs)).flatten()\n",
    "x = fs[0]['Domain/x']\n",
    "plt.contour(x, t, Tall)\n",
    "speed = np.sqrt(kappa/tau_q)\n",
    "plt.plot(0.3+speed*t, t, 'r--', lw=3, alpha=0.4)\n",
    "plt.plot(0.3-speed*t, t, 'r--', lw=3, alpha=0.4)\n",
    "plt.plot(0.7+speed*t, t, 'r--', lw=3, alpha=0.4)\n",
    "plt.plot(0.7-speed*t, t, 'r--', lw=3, alpha=0.4)\n",
    "plt.show()"
   ]
  },
  {
   "cell_type": "markdown",
   "metadata": {},
   "source": [
    "# 2d case"
   ]
  },
  {
   "cell_type": "code",
   "execution_count": null,
   "metadata": {},
   "outputs": [],
   "source": [
    "fs = []\n",
    "files = sorted(glob.glob('2d/data*hdf5'), key=os.path.getmtime)\n",
    "for f in files:\n",
    "    fs.append(h5py.File(f, 'r'))"
   ]
  },
  {
   "cell_type": "code",
   "execution_count": null,
   "metadata": {},
   "outputs": [],
   "source": [
    "fs[0]['Domain'].attrs['dy']"
   ]
  },
  {
   "cell_type": "code",
   "execution_count": null,
   "metadata": {},
   "outputs": [],
   "source": [
    "fs[0]['Domain/x'].shape"
   ]
  },
  {
   "cell_type": "code",
   "execution_count": null,
   "metadata": {},
   "outputs": [],
   "source": [
    "fs[0]['Primitive/T'].shape"
   ]
  },
  {
   "cell_type": "code",
   "execution_count": null,
   "metadata": {},
   "outputs": [],
   "source": [
    "kappa = fs[0]['Optional'].attrs['kappa'][0]\n",
    "tau_q = fs[0]['Optional'].attrs['tau_q'][0]\n",
    "print(f\"Dissipation strength {kappa}, \"\n",
    "      f\"relaxation time {tau_q}, \"\n",
    "      f\"timestep {fs[0]['Domain'].attrs['dt'][0]}\")"
   ]
  },
  {
   "cell_type": "code",
   "execution_count": null,
   "metadata": {},
   "outputs": [],
   "source": [
    "fs[-1].attrs['t']"
   ]
  },
  {
   "cell_type": "code",
   "execution_count": null,
   "metadata": {},
   "outputs": [],
   "source": [
    "fig, axes = plt.subplots(5, 10, figsize=(10,5))\n",
    "for f, ax in zip(fs[:50], axes.flatten()):\n",
    "    ax.imshow(f['Primitive/T'], vmin=0, vmax=1)\n",
    "#     ax.set_title(f\"Time {f.attrs['t'][0]:.1f}\")\n",
    "    ax.axis('off')\n",
    "# fig.tight_layout()\n",
    "plt.subplots_adjust(wspace=0.02,hspace=0.02)\n",
    "plt.show()"
   ]
  },
  {
   "cell_type": "code",
   "execution_count": null,
   "metadata": {},
   "outputs": [],
   "source": [
    "nx, ny = fs[0]['Primitive/T'].shape\n",
    "plt.figure()\n",
    "for i in range(len(fs)//5):\n",
    "    plt.plot(fs[5*i]['Domain/x'], fs[5*i]['Primitive/T'][:, ny//2])\n",
    "    plt.plot(fs[5*i]['Domain/y'], fs[5*i]['Primitive/T'][nx//2, :])\n",
    "plt.show()"
   ]
  },
  {
   "cell_type": "code",
   "execution_count": null,
   "metadata": {},
   "outputs": [],
   "source": [
    "nx, ny = fs[0]['Primitive/T'].shape\n",
    "plt.figure()\n",
    "for i in range(len(fs)//5):\n",
    "    plt.plot(fs[5*i]['Domain/x'], fs[5*i]['Primitive/qx'][:, ny//2])\n",
    "    plt.plot(fs[5*i]['Domain/y'], fs[5*i]['Primitive/qy'][nx//2, :])\n",
    "plt.show()"
   ]
  },
  {
   "cell_type": "code",
   "execution_count": null,
   "metadata": {},
   "outputs": [],
   "source": [
    "nx, ny = fs[0]['Primitive/T'].shape\n",
    "plt.figure()\n",
    "for i in range(len(fs)//5):\n",
    "    plt.plot(fs[5*i]['Domain/x'], fs[5*i]['Auxiliary/dxT'][:, ny//2])\n",
    "    plt.plot(fs[5*i]['Domain/y'], fs[5*i]['Auxiliary/dyT'][nx//2, :])\n",
    "plt.show()"
   ]
  }
 ],
 "metadata": {
  "kernelspec": {
   "display_name": "Python 3",
   "language": "python",
   "name": "python3"
  },
  "language_info": {
   "codemirror_mode": {
    "name": "ipython",
    "version": 3
   },
   "file_extension": ".py",
   "mimetype": "text/x-python",
   "name": "python",
   "nbconvert_exporter": "python",
   "pygments_lexer": "ipython3",
   "version": "3.8.5"
  }
 },
 "nbformat": 4,
 "nbformat_minor": 4
}
