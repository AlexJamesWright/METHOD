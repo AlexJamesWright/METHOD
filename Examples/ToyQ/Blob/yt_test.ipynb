{
 "cells": [
  {
   "cell_type": "markdown",
   "id": "filled-transcript",
   "metadata": {},
   "source": [
    "# Testing if `yt` works"
   ]
  },
  {
   "cell_type": "code",
   "execution_count": null,
   "id": "unknown-pricing",
   "metadata": {},
   "outputs": [],
   "source": [
    "import numpy as np\n",
    "import h5py\n",
    "import yt"
   ]
  },
  {
   "cell_type": "code",
   "execution_count": null,
   "id": "magnetic-oriental",
   "metadata": {},
   "outputs": [],
   "source": [
    "f = h5py.File('2d/data_serial10.hdf5', 'r')"
   ]
  },
  {
   "cell_type": "code",
   "execution_count": null,
   "id": "interim-parameter",
   "metadata": {},
   "outputs": [],
   "source": [
    "f['Primitive'].keys()"
   ]
  },
  {
   "cell_type": "code",
   "execution_count": null,
   "id": "chemical-discussion",
   "metadata": {},
   "outputs": [],
   "source": [
    "units = ['K', 'K/m', 'K/m', 'K/m']"
   ]
  },
  {
   "cell_type": "code",
   "execution_count": null,
   "id": "continent-dream",
   "metadata": {},
   "outputs": [],
   "source": [
    "nx = f['Domain'].attrs['nx'][0]\n",
    "ny = f['Domain'].attrs['ny'][0]\n",
    "nz = f['Domain'].attrs['nz'][0]\n",
    "xmin = f['Domain'].attrs['xmin'][0]\n",
    "xmax = f['Domain'].attrs['xmax'][0]\n",
    "ymin = f['Domain'].attrs['ymin'][0]\n",
    "ymax = f['Domain'].attrs['ymax'][0]\n",
    "zmin = f['Domain'].attrs['zmin'][0]\n",
    "zmax = f['Domain'].attrs['zmax'][0]\n",
    "print(nx, ny, zmin, zmax)"
   ]
  },
  {
   "cell_type": "code",
   "execution_count": null,
   "id": "cutting-reminder",
   "metadata": {},
   "outputs": [],
   "source": [
    "data = {k:(v[...].reshape((nx,ny,1)), u) for (k, v), u in zip(f['Primitive'].items(), units)}"
   ]
  },
  {
   "cell_type": "code",
   "execution_count": null,
   "id": "empty-publication",
   "metadata": {},
   "outputs": [],
   "source": [
    "bbox = np.array([[xmin, xmax], [ymin, ymax], [zmin, zmax]])"
   ]
  },
  {
   "cell_type": "code",
   "execution_count": null,
   "id": "greek-compression",
   "metadata": {},
   "outputs": [],
   "source": [
    "ds = yt.load_uniform_grid(data, (nx,ny,1), bbox=bbox, length_unit='m', periodicity=(True, True, True))"
   ]
  },
  {
   "cell_type": "code",
   "execution_count": null,
   "id": "hundred-wallace",
   "metadata": {},
   "outputs": [],
   "source": [
    "slc = yt.SlicePlot(ds, 'z', 'T')\n",
    "slc.show()"
   ]
  },
  {
   "cell_type": "code",
   "execution_count": null,
   "id": "federal-address",
   "metadata": {},
   "outputs": [],
   "source": []
  },
  {
   "cell_type": "code",
   "execution_count": null,
   "id": "stable-avatar",
   "metadata": {},
   "outputs": [],
   "source": []
  }
 ],
 "metadata": {
  "kernelspec": {
   "display_name": "Python 3",
   "language": "python",
   "name": "python3"
  },
  "language_info": {
   "codemirror_mode": {
    "name": "ipython",
    "version": 3
   },
   "file_extension": ".py",
   "mimetype": "text/x-python",
   "name": "python",
   "nbconvert_exporter": "python",
   "pygments_lexer": "ipython3",
   "version": "3.9.2"
  }
 },
 "nbformat": 4,
 "nbformat_minor": 5
}
