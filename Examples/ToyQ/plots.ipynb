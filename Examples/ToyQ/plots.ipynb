{
 "cells": [
  {
   "cell_type": "code",
   "execution_count": null,
   "metadata": {},
   "outputs": [],
   "source": [
    "import numpy as np\n",
    "import matplotlib.pyplot as plt\n",
    "import h5py\n",
    "import glob\n",
    "import os"
   ]
  },
  {
   "cell_type": "code",
   "execution_count": null,
   "metadata": {},
   "outputs": [],
   "source": [
    "%matplotlib inline"
   ]
  },
  {
   "cell_type": "markdown",
   "metadata": {},
   "source": [
    "# 1d case"
   ]
  },
  {
   "cell_type": "code",
   "execution_count": null,
   "metadata": {},
   "outputs": [],
   "source": [
    "fs_imex = []\n",
    "files = sorted(glob.glob('Blob/1d/data*1em4*hdf5'), key=os.path.getmtime)\n",
    "for f in files:\n",
    "    fs_imex.append(h5py.File(f, 'r'))"
   ]
  },
  {
   "cell_type": "code",
   "execution_count": null,
   "metadata": {},
   "outputs": [],
   "source": [
    "fs_ce = []\n",
    "files = sorted(glob.glob('BlobCE/1d/data*1em4*hdf5'), key=os.path.getmtime)\n",
    "for f in files:\n",
    "    fs_ce.append(h5py.File(f, 'r'))"
   ]
  },
  {
   "cell_type": "code",
   "execution_count": null,
   "metadata": {},
   "outputs": [],
   "source": [
    "plt.plot(fs_ce[0]['Primitive/T'][:])\n",
    "plt.plot(fs_ce[-1]['Primitive/T'][:])"
   ]
  },
  {
   "cell_type": "code",
   "execution_count": null,
   "metadata": {},
   "outputs": [],
   "source": [
    "plt.plot(fs_imex[0]['Primitive/T'][:])\n",
    "plt.plot(fs_imex[-1]['Primitive/T'][:])"
   ]
  },
  {
   "cell_type": "code",
   "execution_count": null,
   "metadata": {},
   "outputs": [],
   "source": [
    "print(\"kappa the same?\", np.allclose(fs_imex[0]['Optional'].attrs['kappa'], fs_ce[0]['Optional'].attrs['kappa']))\n",
    "print(\"tau_q the same?\", np.allclose(fs_imex[0]['Optional'].attrs['tau_q'], fs_ce[0]['Optional'].attrs['tau_q']))"
   ]
  },
  {
   "cell_type": "code",
   "execution_count": null,
   "metadata": {},
   "outputs": [],
   "source": [
    "fig, axes = plt.subplots(6, 2, figsize=(8, 20))\n",
    "for axi, i in enumerate(range(0, len(fs_imex), len(fs_imex)//5)):\n",
    "    axes[axi, 0].plot(fs_imex[i]['Domain/x'], fs_imex[i]['Primitive/T'][:], label='IMEX')\n",
    "    axes[axi, 0].plot(fs_imex[i]['Domain/x'], fs_ce[i]['Primitive/T'][:], label='CE')\n",
    "    axes[axi, 0].legend()\n",
    "    axes[axi, 0].set_title(f\"Time = {fs_imex[i].attrs['t'][0]:.2f}\")\n",
    "    axes[axi, 1].plot(fs_imex[i]['Domain/x'], fs_imex[i]['Primitive/T'][:]-fs_ce[i]['Primitive/T'][:], label='IMEX')\n",
    "    axes[axi, 1].legend()\n",
    "fig.tight_layout()\n",
    "plt.show()"
   ]
  },
  {
   "cell_type": "code",
   "execution_count": null,
   "metadata": {},
   "outputs": [],
   "source": [
    "plt.plot(fs_ce[1]['Auxiliary/del2T'])"
   ]
  },
  {
   "cell_type": "code",
   "execution_count": null,
   "metadata": {},
   "outputs": [],
   "source": [
    "plt.plot(fs_ce[1]['Auxiliary/del4T'])"
   ]
  },
  {
   "cell_type": "code",
   "execution_count": null,
   "metadata": {},
   "outputs": [],
   "source": []
  },
  {
   "cell_type": "markdown",
   "metadata": {},
   "source": [
    "# 2d case"
   ]
  },
  {
   "cell_type": "code",
   "execution_count": null,
   "metadata": {},
   "outputs": [],
   "source": [
    "fs_imex = []\n",
    "files = sorted(glob.glob('Blob/2d/data*1em3*hdf5'), key=os.path.getmtime)\n",
    "for f in files:\n",
    "    fs_imex.append(h5py.File(f, 'r'))"
   ]
  },
  {
   "cell_type": "code",
   "execution_count": null,
   "metadata": {},
   "outputs": [],
   "source": [
    "fs_ce = []\n",
    "files = sorted(glob.glob('BlobCE/2d/data*1em3*hdf5'), key=os.path.getmtime)\n",
    "for f in files:\n",
    "    fs_ce.append(h5py.File(f, 'r'))"
   ]
  },
  {
   "cell_type": "code",
   "execution_count": null,
   "metadata": {},
   "outputs": [],
   "source": [
    "nx = fs_imex[0]['Domain'].attrs['nx'][0]\n",
    "ny = fs_imex[0]['Domain'].attrs['ny'][0]"
   ]
  },
  {
   "cell_type": "code",
   "execution_count": null,
   "metadata": {},
   "outputs": [],
   "source": [
    "fig, axes = plt.subplots(6, 2, figsize=(8, 20))\n",
    "for axi, i in enumerate(range(0, len(fs_imex), len(fs_imex)//5)):\n",
    "    axes[axi, 0].plot(fs_imex[i]['Domain/x'], fs_imex[i]['Primitive/T'][:, ny//2], label='IMEX')\n",
    "    axes[axi, 0].plot(fs_imex[i]['Domain/x'], fs_ce[i]['Primitive/T'][:, ny//2], label='CE')\n",
    "    axes[axi, 0].legend()\n",
    "    axes[axi, 0].set_title(f\"Time = {fs_imex[i].attrs['t'][0]:.2f}\")\n",
    "    axes[axi, 1].plot(fs_imex[i]['Domain/x'], fs_imex[i]['Primitive/T'][:, ny//2]-fs_ce[i]['Primitive/T'][:, ny//2], label='IMEX')\n",
    "    axes[axi, 1].legend()\n",
    "fig.tight_layout()\n",
    "plt.show()"
   ]
  },
  {
   "cell_type": "code",
   "execution_count": null,
   "metadata": {},
   "outputs": [],
   "source": []
  }
 ],
 "metadata": {
  "kernelspec": {
   "display_name": "Python 3",
   "language": "python",
   "name": "python3"
  },
  "language_info": {
   "codemirror_mode": {
    "name": "ipython",
    "version": 3
   },
   "file_extension": ".py",
   "mimetype": "text/x-python",
   "name": "python",
   "nbconvert_exporter": "python",
   "pygments_lexer": "ipython3",
   "version": "3.8.5"
  }
 },
 "nbformat": 4,
 "nbformat_minor": 4
}
